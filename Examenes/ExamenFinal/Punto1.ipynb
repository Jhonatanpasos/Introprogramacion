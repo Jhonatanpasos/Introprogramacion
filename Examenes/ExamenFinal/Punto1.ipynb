{
  "nbformat": 4,
  "nbformat_minor": 0,
  "metadata": {
    "colab": {
      "name": "Punto1.ipynb",
      "provenance": []
    },
    "kernelspec": {
      "name": "python3",
      "display_name": "Python 3"
    },
    "language_info": {
      "name": "python"
    }
  },
  "cells": [
    {
      "cell_type": "markdown",
      "metadata": {
        "id": "NFT1aP9fhy_A"
      },
      "source": [
        "**Punto1. (valor 1.0)** Solicite a un usuario que ingrese sus 8 alimentos favoritos y sus precios luego realice un gráfico de barras con la información ingresada (recuerde poner título al gráfico y a sus ejes también recuerde guardar el resultado en un archivo png)"
      ]
    },
    {
      "cell_type": "code",
      "metadata": {
        "colab": {
          "base_uri": "https://localhost:8080/",
          "height": 601
        },
        "id": "6k8KK0JnhyAu",
        "outputId": "85d3bd04-24a7-4c0e-fe98-dcaad207ddd8"
      },
      "source": [
        "import matplotlib.pyplot as plt\n",
        "Alimento = []\n",
        "Precio = []\n",
        "MensajeAlimento = \"Buenas, porfavor ingrese uno de sus alimentos favoritos: \"\n",
        "MensajePrecio = \"Ahora ingrese el precio de tu alimento en el mismo orden: \"\n",
        "for i in range (8):\n",
        "  alimento = input(MensajeAlimento)\n",
        "  Alimento.append(alimento)\n",
        "print(Alimento)\n",
        "for i in range (8):\n",
        "  precios= int(input(MensajePrecio))\n",
        "  Precio.append(precios)\n",
        "print(Precio)\n",
        "\n",
        "plt.bar (Alimento, Precio, width = 0.6, color = \"c\")\n",
        "#######################\n",
        "plt.title (\"¿Cuales son tus alimentos favoritos?\")\n",
        "plt.xlabel (\"Alimento favorito\")\n",
        "plt.ylabel (\"Precios aproximados\")\n",
        "plt.savefig (\"graficoAlimentosFavoritos.png\")\n",
        "#######################\n",
        "plt.show ()"
      ],
      "execution_count": 3,
      "outputs": [
        {
          "output_type": "stream",
          "text": [
            "Buenas, porfavor ingrese uno de sus alimentos favoritos: Hamburguesa\n",
            "Buenas, porfavor ingrese uno de sus alimentos favoritos: Takis\n",
            "Buenas, porfavor ingrese uno de sus alimentos favoritos: Risotto\n",
            "Buenas, porfavor ingrese uno de sus alimentos favoritos: Salchipapas\n",
            "Buenas, porfavor ingrese uno de sus alimentos favoritos: Frijoles\n",
            "Buenas, porfavor ingrese uno de sus alimentos favoritos: Sushi\n",
            "Buenas, porfavor ingrese uno de sus alimentos favoritos: Helado\n",
            "Buenas, porfavor ingrese uno de sus alimentos favoritos: Pastas\n",
            "['Hamburguesa', 'Takis', 'Risotto', 'Salchipapas', 'Frijoles', 'Sushi', 'Helado', 'Pastas']\n",
            "Ahora ingrese el precio de tu alimento en el mismo orden: 15000\n",
            "Ahora ingrese el precio de tu alimento en el mismo orden: 5000\n",
            "Ahora ingrese el precio de tu alimento en el mismo orden: 23000\n",
            "Ahora ingrese el precio de tu alimento en el mismo orden: 16000\n",
            "Ahora ingrese el precio de tu alimento en el mismo orden: 15000\n",
            "Ahora ingrese el precio de tu alimento en el mismo orden: 18000\n",
            "Ahora ingrese el precio de tu alimento en el mismo orden: 11000\n",
            "Ahora ingrese el precio de tu alimento en el mismo orden: 22000\n",
            "[15000, 5000, 23000, 16000, 15000, 18000, 11000, 22000]\n"
          ],
          "name": "stdout"
        },
        {
          "output_type": "display_data",
          "data": {
            "image/png": "[encoded data removed]",
            "text/plain": [
              "<Figure size 432x288 with 1 Axes>"
            ]
          },
          "metadata": {
            "tags": [],
            "needs_background": "light"
          }
        }
      ]
    }
  ]
}