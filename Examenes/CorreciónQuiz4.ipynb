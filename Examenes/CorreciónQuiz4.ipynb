{
  "nbformat": 4,
  "nbformat_minor": 0,
  "metadata": {
    "colab": {
      "name": "CorreciónQuiz4.ipynb",
      "provenance": []
    },
    "kernelspec": {
      "name": "python3",
      "display_name": "Python 3"
    },
    "language_info": {
      "name": "python"
    }
  },
  "cells": [
    {
      "cell_type": "code",
      "metadata": {
        "id": "YPPSInIjzss3"
      },
      "source": [
        "import matplotlib.pyplot as plt\n",
        "def agregarElementos(pregunta1, pregunta2):\n",
        "    lista1 = []\n",
        "    lista2 = []\n",
        "    for i in range(5):\n",
        "        print (f'ingresando dato {i+1} de 5')\n",
        "        lista1.append(input(pregunta1))\n",
        "        lista2.append(float(input(pregunta2)))\n",
        "    return lista1, lista2\n",
        "\n",
        "#----------Punto1--------------#\n",
        "preguntaSnack = 'ingrese su snack favorito: '\n",
        "preguntaPrecio = 'ingrese el precio del snack: '\n",
        "listaSnaks, listaPrecios = agregarElementos(preguntaSnack,preguntaPrecio)\n",
        "print(listaSnaks, listaPrecios)\n",
        "plt.bar(listaSnaks, listaPrecios)\n",
        "plt.show()\n"
      ],
      "execution_count": null,
      "outputs": []
    },
    {
      "cell_type": "code",
      "metadata": {
        "id": "4RLP43tDzvJI"
      },
      "source": [
        "import matplotlib.pyplot as plt\n",
        "def agregarElementos(pregunta1, pregunta2):\n",
        "    lista1 = []\n",
        "    lista2 = []\n",
        "    for i in range(5):\n",
        "        print (f'ingresando dato {i+1} de 5')\n",
        "        lista1.append(input(pregunta1))\n",
        "        lista2.append(float(input(pregunta2)))\n",
        "    return lista1, lista2\n",
        "\n",
        "preguntaCiudad = 'Ingrese su ciudad Favorita :'\n",
        "preguntaPoblacion = 'Ingrese la poblacion : '\n",
        "\n",
        "listaCiudades, listaPoblacion = agregarElementos(preguntaCiudad, preguntaPoblacion)\n",
        "mayor= max(listaPoblacion)\n",
        "ubicacion = listaPoblacion.index(mayor)\n",
        "_explode = [0,0,0,0,0]\n",
        "_explode[ubicacion] = 0.2\n",
        "\n",
        "plt.pie(listaPoblacion, labels = listaCiudades, explode= _explode)\n",
        "plt.show()"
      ],
      "execution_count": null,
      "outputs": []
    }
  ]
}