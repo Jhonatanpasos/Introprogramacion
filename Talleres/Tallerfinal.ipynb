{
  "nbformat": 4,
  "nbformat_minor": 0,
  "metadata": {
    "colab": {
      "name": "Tallerfinal.ipynb",
      "provenance": []
    },
    "kernelspec": {
      "name": "python3",
      "display_name": "Python 3"
    },
    "language_info": {
      "name": "python"
    }
  },
  "cells": [
    {
      "cell_type": "markdown",
      "metadata": {
        "id": "wDHF3_096oMd"
      },
      "source": [
        "**Punto1**. Calcular el IMC de un usuario, pero valide que los datos de entrada sean los correctos en caso de que alguna entrada sea errónea vuelva a solicitar el ingreso del dato hasta que sea correcto (adicionalmente pida el nombre y valide que sea un nombre válido)."
      ]
    },
    {
      "cell_type": "code",
      "metadata": {
        "id": "FHpyY3B04MxW"
      },
      "source": [
        "def validateFloat(pregunta):\n",
        "  isCorrectData = False\n",
        "  while (isCorrectData == False):\n",
        "    try:\n",
        "      valor = float (input(pregunta))\n",
        "      isCorrectData = True\n",
        "    except ValueError:\n",
        "      print('datos incorrectos ingrese nuevamente')\n",
        "  return valor "
      ],
      "execution_count": null,
      "outputs": []
    },
    {
      "cell_type": "code",
      "metadata": {
        "id": "15XnlAwI7Sc5"
      },
      "source": [
        "def validateString(pregunta):\n",
        "  isCorrectData = False\n",
        "  while (isCorrectData == False):\n",
        "    try:\n",
        "      valor = input(pregunta)\n",
        "      assert(valor.isalpha())\n",
        "      isCorrectData = True\n",
        "    except AssertionError:\n",
        "      print('datos incorrectos ingrese nuevamente')\n",
        "  return valor"
      ],
      "execution_count": null,
      "outputs": []
    },
    {
      "cell_type": "code",
      "metadata": {
        "id": "l98d-D4_7n3g"
      },
      "source": [
        "validateString ('nombre :')"
      ],
      "execution_count": null,
      "outputs": []
    },
    {
      "cell_type": "code",
      "metadata": {
        "id": "VZccFqsj7kVo"
      },
      "source": [
        "validateFloat('ingrese Peso')"
      ],
      "execution_count": null,
      "outputs": []
    },
    {
      "cell_type": "code",
      "metadata": {
        "id": "aFMHD_AY7TjO"
      },
      "source": [
        "#Calcular imc => Estatura , peso =>peso/estatura^2\n",
        "def pedirDatosEPN():\n",
        "  '''\n",
        "    Se le pide al usuario el peso la estatura \n",
        "    y el nombre\n",
        "    validando que la data este buena\n",
        "  '''\n",
        "  preguntaPeso = 'Ingrese su peso en kg :'\n",
        "  preguntaEstatura = 'Ingrese su estatura en metros : '\n",
        "  preguntaNombre = 'Ingrese su Nombre :'\n",
        "  peso = validateFloat(preguntaPeso)\n",
        "  estatura = validateFloat(preguntaEstatura)\n",
        "  nombre = validateString (preguntaNombre)\n",
        "  return peso,estatura, nombre"
      ],
      "execution_count": null,
      "outputs": []
    },
    {
      "cell_type": "code",
      "metadata": {
        "id": "1nmw_j7d7Z7Q"
      },
      "source": [
        "def calcularIMC ():\n",
        "  pesoIn, estaturaIn, nombreIn = pedirDatosEPN()\n",
        "  imc = pesoIn/ (estaturaIn**2)\n",
        "  return imc, nombreIn"
      ],
      "execution_count": null,
      "outputs": []
    },
    {
      "cell_type": "code",
      "metadata": {
        "id": "gQ4Qgno87gRc"
      },
      "source": [
        "calcularIMC()"
      ],
      "execution_count": null,
      "outputs": []
    },
    {
      "cell_type": "code",
      "metadata": {
        "id": "ERq5vOtm7dYI"
      },
      "source": [
        "imc, nombre = calcularIMC()\n",
        "print(imc, nombre)\n",
        "print(f'El imc de {nombre} es de {imc} %')"
      ],
      "execution_count": null,
      "outputs": []
    },
    {
      "cell_type": "markdown",
      "metadata": {
        "id": "0la5skam6te4"
      },
      "source": [
        "**Punto2**. Pida al usuario que ingrese un párrafo y luego muestre en pantalla cual es la palabra más grande, la palabra más pequeña. Valide que el párrafo ingresado termine en punto sino es así se debe pedir al usuario que ingrese nuevamente el párrafo."
      ]
    },
    {
      "cell_type": "code",
      "metadata": {
        "id": "DS0hVNOR61R4"
      },
      "source": [
        "def validateEndWith(strValidate, pregunta):\n",
        "  isCorrectData = False\n",
        "  while (isCorrectData == False):\n",
        "    try:\n",
        "      valor = input(pregunta)\n",
        "      assert(valor.endswith(strValidate))\n",
        "      isCorrectData = True\n",
        "    except AssertionError:\n",
        "      print(f'datos incorrectos ingrese nuevamente y recuerde que debe terminar con \"{strValidate}\" ')\n",
        "  return valor "
      ],
      "execution_count": null,
      "outputs": []
    },
    {
      "cell_type": "code",
      "metadata": {
        "id": "dVpVpvFR7tem"
      },
      "source": [
        "parrafo =validateEndWith('.','ingrese un parrafo.')\n",
        "parrafo = parrafo[:-1]\n",
        "palabras = parrafo.split(' ')\n",
        "print(palabras)\n",
        "print(f'la palabra más grande es \"{max(palabras, key=len)}\" y el menor es \"{min(palabras, key=len)}\"')\n",
        "\n",
        "parrafo = 'hola, como anda todo, Muchachos'\n",
        "parrafo = parrafo.replace(',','')\n",
        "print(parrafo)\n",
        "palabras = parrafo.split(' ')\n",
        "print(palabras)"
      ],
      "execution_count": null,
      "outputs": []
    },
    {
      "cell_type": "code",
      "metadata": {
        "id": "wbsVp2S67xrV"
      },
      "source": [
        "parrafo = 'y e a'\n",
        "palabras = parrafo.split(' ')\n",
        "print (min(palabras))"
      ],
      "execution_count": null,
      "outputs": []
    },
    {
      "cell_type": "markdown",
      "metadata": {
        "id": "aWHQ_7iR61vP"
      },
      "source": [
        "**Punto3**. Un taller de biomédica desea tener un archivo para el manejo de los clientes, se pide que desarrolle un programa que en su primera ejecución cree el archivo llamado mantenimientos.txt. Luego en cada ejecución se preguntará por el nombre del equipo médico, una descripción y el precio acordado para el mantenimiento (se deben almacenar estos datos nuevos en el archivo mantenimientos.txt)."
      ]
    },
    {
      "cell_type": "code",
      "metadata": {
        "id": "fTk_6rUw66Ue"
      },
      "source": [
        "def validarArchivo(nombreArchivo, descripcion):\n",
        "  try:\n",
        "    archivo = open(nombreArchivo)\n",
        "    return True\n",
        "  except FileNotFoundError:\n",
        "    archivo = open(nombreArchivo, 'w', encoding='UTF-8')\n",
        "    print(\"2\")\n",
        "    archivo.writelines(descripcion)\n",
        "    return False"
      ],
      "execution_count": null,
      "outputs": []
    },
    {
      "cell_type": "code",
      "metadata": {
        "id": "ftknFwLw7307"
      },
      "source": [
        "def guardarLinea (nombreArchivo, lineaIn):\n",
        "  archivo = open(nombreArchivo,'a')\n",
        "  archivo.writelines(lineaIn)"
      ],
      "execution_count": null,
      "outputs": []
    },
    {
      "cell_type": "code",
      "metadata": {
        "id": "KLLBRqtF764-"
      },
      "source": [
        "nameFile = \"mantenimientos.txt\"\n",
        "isValidate = validarArchivo(nameFile, 'Seguimiento de mantenimiento de equipos medicos')\n",
        "if (isValidate):\n",
        "  descEquipo = input('Ingrese la descripción del equipo : ')\n",
        "  nombre = validateString('Ingrese su nombre :')\n",
        "  precio = validateFloat('Ingrese el precio : ')\n",
        "  linea ='\\nDescripcion'+ descEquipo+ ' nombre técnico: ' + nombre + ' precio acordado: '+ str(precio)\n",
        "  guardarLinea(nameFile, linea)\n",
        "else:\n",
        "  print('se creó el archivo')"
      ],
      "execution_count": null,
      "outputs": []
    }
  ]
}